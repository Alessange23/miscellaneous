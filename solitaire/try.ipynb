{
 "cells": [
  {
   "cell_type": "code",
   "execution_count": 1,
   "metadata": {},
   "outputs": [],
   "source": [
    "from solitaire import Solitaire\n",
    "import numpy as np\n",
    "from matplotlib import pyplot as plt"
   ]
  },
  {
   "cell_type": "code",
   "execution_count": 2,
   "metadata": {},
   "outputs": [
    {
     "name": "stdout",
     "output_type": "stream",
     "text": [
      "Estimation of success probability is 25.2541%\n"
     ]
    }
   ],
   "source": [
    "number_of_tries = 1e6\n",
    "outputs = np.zeros((int(number_of_tries), 2))\n",
    "\n",
    "for jj in range(len(outputs)):\n",
    "    result, actions = Solitaire(display = False)\n",
    "    outputs[jj, 0] = result\n",
    "    outputs[jj, 1] = actions\n",
    "\n",
    "successes = np.sum(outputs[:, 0])\n",
    "print('Estimation of success probability is ' + str(100*(successes/number_of_tries)) + '%')"
   ]
  },
  {
   "cell_type": "code",
   "execution_count": 2,
   "metadata": {},
   "outputs": [
    {
     "name": "stdout",
     "output_type": "stream",
     "text": [
      "--------------------------------------------------\n",
      "--------- Card: \u001b[31mF6\u001b[0m, first card drawn.\n",
      "--------- Substitution number: 0\n",
      "\u001b[34mQ1\u001b[0m  \u001b[34mF4\u001b[0m  \u001b[34mQK\u001b[0m  \u001b[34mC4\u001b[0m  \u001b[34mC1\u001b[0m  \u001b[34mQ4\u001b[0m  \u001b[34mP8\u001b[0m  \u001b[34mC2\u001b[0m  \u001b[34mQ3\u001b[0m  \n",
      "\u001b[34mC3\u001b[0m  \u001b[34mC6\u001b[0m  \u001b[34mP1\u001b[0m  \u001b[34mP9\u001b[0m  \u001b[34mFK\u001b[0m  \u001b[34mPK\u001b[0m  \u001b[34mP5\u001b[0m  \u001b[34mP3\u001b[0m  \u001b[34mCK\u001b[0m  \n",
      "\u001b[34mC7\u001b[0m  \u001b[34mF1\u001b[0m  \u001b[34mQ7\u001b[0m  \u001b[34mF2\u001b[0m  \u001b[34mP4\u001b[0m  \u001b[34mQ8\u001b[0m  \u001b[34mP2\u001b[0m  \u001b[34mC9\u001b[0m  \u001b[34mQ6\u001b[0m  \n",
      "\u001b[34mF5\u001b[0m  \u001b[34mF3\u001b[0m  \u001b[34mC8\u001b[0m  \u001b[34mQ9\u001b[0m  \u001b[34mF7\u001b[0m  \u001b[33mF8\u001b[0m  \u001b[34mP6\u001b[0m  \u001b[34mQ2\u001b[0m  \u001b[34mQ5\u001b[0m  \n",
      "--------- Hand: \u001b[31mF9\u001b[0m \u001b[31mC5\u001b[0m \u001b[31mP7\u001b[0m  || \u001b[32mF6\u001b[0m\n",
      "--------------------------------------------------\n",
      "--------- Substitution number: 1\n",
      "\u001b[34mQ1\u001b[0m  \u001b[34mF4\u001b[0m  \u001b[34mQK\u001b[0m  \u001b[34mC4\u001b[0m  \u001b[34mC1\u001b[0m  \u001b[34mQ4\u001b[0m  \u001b[34mP8\u001b[0m  \u001b[34mC2\u001b[0m  \u001b[34mQ3\u001b[0m  \n",
      "\u001b[34mC3\u001b[0m  \u001b[34mC6\u001b[0m  \u001b[34mP1\u001b[0m  \u001b[34mP9\u001b[0m  \u001b[34mFK\u001b[0m  \u001b[34mPK\u001b[0m  \u001b[34mP5\u001b[0m  \u001b[34mP3\u001b[0m  \u001b[34mCK\u001b[0m  \n",
      "\u001b[34mC7\u001b[0m  \u001b[34mF1\u001b[0m  \u001b[34mQ7\u001b[0m  \u001b[34mF2\u001b[0m  \u001b[34mP4\u001b[0m  \u001b[34mQ8\u001b[0m  \u001b[34mP2\u001b[0m  \u001b[34mC9\u001b[0m  \u001b[34mQ6\u001b[0m  \n",
      "\u001b[34mF5\u001b[0m  \u001b[34mF3\u001b[0m  \u001b[34mC8\u001b[0m  \u001b[34mQ9\u001b[0m  \u001b[34mF7\u001b[0m  \u001b[34mF6\u001b[0m  \u001b[34mP6\u001b[0m  \u001b[33mQ2\u001b[0m  \u001b[34mQ5\u001b[0m  \n",
      "--------- Hand: \u001b[31mF9\u001b[0m \u001b[31mC5\u001b[0m \u001b[31mP7\u001b[0m  || \u001b[32mF8\u001b[0m\n",
      "--------------------------------------------------\n",
      "--------- Substitution number: 2\n",
      "\u001b[34mQ1\u001b[0m  \u001b[34mF4\u001b[0m  \u001b[34mQK\u001b[0m  \u001b[34mC4\u001b[0m  \u001b[34mC1\u001b[0m  \u001b[34mQ4\u001b[0m  \u001b[34mP8\u001b[0m  \u001b[34mC2\u001b[0m  \u001b[34mQ3\u001b[0m  \n",
      "\u001b[34mC3\u001b[0m  \u001b[33mC6\u001b[0m  \u001b[34mP1\u001b[0m  \u001b[34mP9\u001b[0m  \u001b[34mFK\u001b[0m  \u001b[34mPK\u001b[0m  \u001b[34mP5\u001b[0m  \u001b[34mP3\u001b[0m  \u001b[34mCK\u001b[0m  \n",
      "\u001b[34mC7\u001b[0m  \u001b[34mF1\u001b[0m  \u001b[34mQ7\u001b[0m  \u001b[34mF2\u001b[0m  \u001b[34mP4\u001b[0m  \u001b[34mQ8\u001b[0m  \u001b[34mP2\u001b[0m  \u001b[34mC9\u001b[0m  \u001b[34mQ6\u001b[0m  \n",
      "\u001b[34mF5\u001b[0m  \u001b[34mF3\u001b[0m  \u001b[34mC8\u001b[0m  \u001b[34mQ9\u001b[0m  \u001b[34mF7\u001b[0m  \u001b[34mF6\u001b[0m  \u001b[34mP6\u001b[0m  \u001b[34mF8\u001b[0m  \u001b[34mQ5\u001b[0m  \n",
      "--------- Hand: \u001b[31mF9\u001b[0m \u001b[31mC5\u001b[0m \u001b[31mP7\u001b[0m  || \u001b[32mQ2\u001b[0m\n",
      "--------------------------------------------------\n",
      "--------- Substitution number: 3\n",
      "\n",
      "\n",
      "\n",
      "\n",
      "--------- Hand: \u001b[31mF9\u001b[0m \u001b[31mC5\u001b[0m \u001b[31mP7\u001b[0m  || \u001b[32mC6\u001b[0m\n",
      "--------------------------------------------------\n",
      "--------- Substitution number: 4\n",
      "\u001b[34mQ1\u001b[0m  \u001b[34mF4\u001b[0m  \u001b[34mQK\u001b[0m  \u001b[34mC4\u001b[0m  \u001b[34mC1\u001b[0m  \u001b[34mC6\u001b[0m  \u001b[34mP8\u001b[0m  \u001b[34mC2\u001b[0m  \u001b[34mQ3\u001b[0m  \n",
      "\u001b[34mC3\u001b[0m  \u001b[34mQ2\u001b[0m  \u001b[34mP1\u001b[0m  \u001b[33mP9\u001b[0m  \u001b[34mFK\u001b[0m  \u001b[34mPK\u001b[0m  \u001b[34mP5\u001b[0m  \u001b[34mP3\u001b[0m  \u001b[34mCK\u001b[0m  \n",
      "\u001b[34mC7\u001b[0m  \u001b[34mF1\u001b[0m  \u001b[34mQ7\u001b[0m  \u001b[34mF2\u001b[0m  \u001b[34mP4\u001b[0m  \u001b[34mQ8\u001b[0m  \u001b[34mP2\u001b[0m  \u001b[34mC9\u001b[0m  \u001b[34mQ6\u001b[0m  \n",
      "\u001b[34mF5\u001b[0m  \u001b[34mF3\u001b[0m  \u001b[34mC8\u001b[0m  \u001b[34mQ9\u001b[0m  \u001b[34mF7\u001b[0m  \u001b[34mF6\u001b[0m  \u001b[34mP6\u001b[0m  \u001b[34mF8\u001b[0m  \u001b[34mQ5\u001b[0m  \n",
      "--------- Hand: \u001b[31mF9\u001b[0m \u001b[31mC5\u001b[0m \u001b[31mP7\u001b[0m  || \u001b[32mQ4\u001b[0m\n",
      "--------------------------------------------------\n",
      "--------- Substitution number: 5\n",
      "\u001b[34mQ1\u001b[0m  \u001b[34mF4\u001b[0m  \u001b[34mQK\u001b[0m  \u001b[34mC4\u001b[0m  \u001b[34mC1\u001b[0m  \u001b[34mC6\u001b[0m  \u001b[34mP8\u001b[0m  \u001b[34mC2\u001b[0m  \u001b[34mQ3\u001b[0m  \n",
      "\u001b[34mC3\u001b[0m  \u001b[34mQ2\u001b[0m  \u001b[34mP1\u001b[0m  \u001b[34mQ4\u001b[0m  \u001b[34mFK\u001b[0m  \u001b[34mPK\u001b[0m  \u001b[34mP5\u001b[0m  \u001b[34mP3\u001b[0m  \u001b[34mCK\u001b[0m  \n",
      "\u001b[34mC7\u001b[0m  \u001b[34mF1\u001b[0m  \u001b[34mQ7\u001b[0m  \u001b[34mF2\u001b[0m  \u001b[34mP4\u001b[0m  \u001b[34mQ8\u001b[0m  \u001b[34mP2\u001b[0m  \u001b[34mC9\u001b[0m  \u001b[33mQ6\u001b[0m  \n",
      "\u001b[34mF5\u001b[0m  \u001b[34mF3\u001b[0m  \u001b[34mC8\u001b[0m  \u001b[34mQ9\u001b[0m  \u001b[34mF7\u001b[0m  \u001b[34mF6\u001b[0m  \u001b[34mP6\u001b[0m  \u001b[34mF8\u001b[0m  \u001b[34mQ5\u001b[0m  \n",
      "--------- Hand: \u001b[31mF9\u001b[0m \u001b[31mC5\u001b[0m \u001b[31mP7\u001b[0m  || \u001b[32mP9\u001b[0m\n",
      "--------------------------------------------------\n",
      "--------- Substitution number: 6\n",
      "\u001b[34mQ1\u001b[0m  \u001b[34mF4\u001b[0m  \u001b[34mQK\u001b[0m  \u001b[34mC4\u001b[0m  \u001b[34mC1\u001b[0m  \u001b[34mC6\u001b[0m  \u001b[34mP8\u001b[0m  \u001b[34mC2\u001b[0m  \u001b[34mQ3\u001b[0m  \n",
      "\u001b[34mC3\u001b[0m  \u001b[34mQ2\u001b[0m  \u001b[34mP1\u001b[0m  \u001b[34mQ4\u001b[0m  \u001b[34mFK\u001b[0m  \u001b[33mPK\u001b[0m  \u001b[34mP5\u001b[0m  \u001b[34mP3\u001b[0m  \u001b[34mCK\u001b[0m  \n",
      "\u001b[34mC7\u001b[0m  \u001b[34mF1\u001b[0m  \u001b[34mQ7\u001b[0m  \u001b[34mF2\u001b[0m  \u001b[34mP4\u001b[0m  \u001b[34mQ8\u001b[0m  \u001b[34mP2\u001b[0m  \u001b[34mC9\u001b[0m  \u001b[34mP9\u001b[0m  \n",
      "\u001b[34mF5\u001b[0m  \u001b[34mF3\u001b[0m  \u001b[34mC8\u001b[0m  \u001b[34mQ9\u001b[0m  \u001b[34mF7\u001b[0m  \u001b[34mF6\u001b[0m  \u001b[34mP6\u001b[0m  \u001b[34mF8\u001b[0m  \u001b[34mQ5\u001b[0m  \n",
      "--------- Hand: \u001b[31mF9\u001b[0m \u001b[31mC5\u001b[0m \u001b[31mP7\u001b[0m  || \u001b[32mQ6\u001b[0m\n",
      "--------------------------------------------------\n"
     ]
    },
    {
     "ename": "TypeError",
     "evalue": "'int' object is not subscriptable",
     "output_type": "error",
     "traceback": [
      "\u001b[0;31m---------------------------------------------------------------------------\u001b[0m",
      "\u001b[0;31mTypeError\u001b[0m                                 Traceback (most recent call last)",
      "\u001b[1;32m/home/alessandro/Documents/GitHub/miscellaneous/solitaire/try.ipynb Cell 3\u001b[0m line \u001b[0;36m1\n\u001b[0;32m----> <a href='vscode-notebook-cell:/home/alessandro/Documents/GitHub/miscellaneous/solitaire/try.ipynb#W2sZmlsZQ%3D%3D?line=0'>1</a>\u001b[0m Solitaire(\u001b[39mTrue\u001b[39;49;00m)\n",
      "File \u001b[0;32m~/Documents/GitHub/miscellaneous/solitaire/solitaire.py:155\u001b[0m, in \u001b[0;36mSolitaire\u001b[0;34m(display, slow_down)\u001b[0m\n\u001b[1;32m    153\u001b[0m \u001b[39m# eventually display the final disposition\u001b[39;00m\n\u001b[1;32m    154\u001b[0m \u001b[39mif\u001b[39;00m display \u001b[39m==\u001b[39m \u001b[39mTrue\u001b[39;00m:\n\u001b[0;32m--> 155\u001b[0m     success \u001b[39m=\u001b[39m CheckSuccess(table)[\u001b[39m0\u001b[39;49m]\n\u001b[1;32m    156\u001b[0m     \u001b[39mif\u001b[39;00m success \u001b[39m==\u001b[39m \u001b[39m1\u001b[39m:\n\u001b[1;32m    157\u001b[0m         color \u001b[39m=\u001b[39m \u001b[39m'\u001b[39m\u001b[39mgreen\u001b[39m\u001b[39m'\u001b[39m\n",
      "\u001b[0;31mTypeError\u001b[0m: 'int' object is not subscriptable"
     ]
    }
   ],
   "source": [
    "Solitaire(True)"
   ]
  },
  {
   "cell_type": "code",
   "execution_count": 4,
   "metadata": {},
   "outputs": [],
   "source": [
    "tii = None\n",
    "\n",
    "if tii:\n",
    "    print('ciao')"
   ]
  },
  {
   "cell_type": "code",
   "execution_count": null,
   "metadata": {},
   "outputs": [],
   "source": []
  }
 ],
 "metadata": {
  "kernelspec": {
   "display_name": "Python 3",
   "language": "python",
   "name": "python3"
  },
  "language_info": {
   "codemirror_mode": {
    "name": "ipython",
    "version": 3
   },
   "file_extension": ".py",
   "mimetype": "text/x-python",
   "name": "python",
   "nbconvert_exporter": "python",
   "pygments_lexer": "ipython3",
   "version": "3.8.10"
  },
  "orig_nbformat": 4
 },
 "nbformat": 4,
 "nbformat_minor": 2
}
